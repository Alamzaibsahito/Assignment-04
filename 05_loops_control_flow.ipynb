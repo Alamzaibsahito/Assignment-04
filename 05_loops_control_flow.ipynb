{
  "nbformat": 4,
  "nbformat_minor": 0,
  "metadata": {
    "colab": {
      "provenance": [],
      "authorship_tag": "ABX9TyMFYukP+R6lRgtTi7Vv8oUt",
      "include_colab_link": true
    },
    "kernelspec": {
      "name": "python3",
      "display_name": "Python 3"
    },
    "language_info": {
      "name": "python"
    }
  },
  "cells": [
    {
      "cell_type": "markdown",
      "metadata": {
        "id": "view-in-github",
        "colab_type": "text"
      },
      "source": [
        "<a href=\"https://colab.research.google.com/github/Alamzaibsahito/Assignment-04/blob/main/05_loops_control_flow.ipynb\" target=\"_parent\"><img src=\"https://colab.research.google.com/assets/colab-badge.svg\" alt=\"Open In Colab\"/></a>"
      ]
    },
    {
      "cell_type": "code",
      "source": [
        "import random\n",
        "\n",
        "def main():\n",
        "    # Generate the secret number at random!\n",
        "    secret_number = random.randint(1, 99)\n",
        "\n",
        "    print(\"I am thinking of a number between 1 and 99...\")\n",
        "\n",
        "    # Get user's guess\n",
        "    guess = int(input(\"Enter a guess: \"))\n",
        "    # True if guess is not equal to secret number\n",
        "    while guess != secret_number:\n",
        "        if guess < secret_number:  # If-statement is True if guess is less than secret number\n",
        "            print(\"Your guess is too low\")\n",
        "        else:\n",
        "            print(\"Your guess is too high\")\n",
        "\n",
        "        print() # Print an empty line to tidy up the console for new guesses\n",
        "        guess = int(input(\"Enter a new guess: \"))  # Get a new guess from the user\n",
        "\n",
        "    print(\"Congrats! The number was: \" + str(secret_number))\n",
        "\n",
        "if __name__ == '__main__':\n",
        "    main()"
      ],
      "metadata": {
        "colab": {
          "base_uri": "https://localhost:8080/"
        },
        "id": "LXeylMtKwHVi",
        "outputId": "71a71d5a-573f-4621-80f0-12772acccffc"
      },
      "execution_count": null,
      "outputs": [
        {
          "output_type": "stream",
          "name": "stdout",
          "text": [
            "I am thinking of a number between 1 and 99...\n",
            "Enter a guess: 2\n",
            "Your guess is too high\n",
            "\n",
            "Enter a new guess: 2\n",
            "Your guess is too high\n",
            "\n",
            "Enter a new guess: 2\n",
            "Your guess is too high\n",
            "\n",
            "Enter a new guess: 2\n",
            "Your guess is too high\n",
            "\n",
            "Enter a new guess: 2\n",
            "Your guess is too high\n",
            "\n",
            "Enter a new guess: 2\n",
            "Your guess is too high\n",
            "\n",
            "Enter a new guess: 2\n",
            "Your guess is too high\n",
            "\n",
            "Enter a new guess: 2\n",
            "Your guess is too high\n",
            "\n",
            "Enter a new guess: 3\n",
            "Your guess is too high\n",
            "\n",
            "Enter a new guess: 4\n",
            "Your guess is too high\n",
            "\n",
            "Enter a new guess: 2\n",
            "Your guess is too high\n",
            "\n",
            "Enter a new guess: 5\n",
            "Your guess is too high\n",
            "\n",
            "Enter a new guess: 7\n",
            "Your guess is too high\n",
            "\n",
            "Enter a new guess: 8\n",
            "Your guess is too high\n",
            "\n",
            "Enter a new guess: 7\n",
            "Your guess is too high\n",
            "\n",
            "Enter a new guess: 6\n",
            "Your guess is too high\n",
            "\n",
            "Enter a new guess: 5\n",
            "Your guess is too high\n",
            "\n",
            "Enter a new guess: 4\n",
            "Your guess is too high\n",
            "\n",
            "Enter a new guess: 3\n",
            "Your guess is too high\n",
            "\n",
            "Enter a new guess: 2\n",
            "Your guess is too high\n",
            "\n",
            "Enter a new guess: 1\n",
            "Congrats! The number was: 1\n"
          ]
        }
      ]
    },
    {
      "cell_type": "code",
      "source": [
        "MAX_TERM_VALUE : int = 10000\n",
        "\n",
        "def main():\n",
        "    curr_term = 0  # The 0th Fibonacci Number\n",
        "    next_term = 1  # The 1st Fibonacci Number\n",
        "    while curr_term <= MAX_TERM_VALUE:\n",
        "        print(curr_term)\n",
        "        term_after_next = curr_term + next_term\n",
        "        curr_term = next_term\n",
        "        next_term = term_after_next\n",
        "\n",
        "\n",
        "# There is no need to edit code beyond this point\n",
        "\n",
        "if __name__ == '__main__':\n",
        "    main()"
      ],
      "metadata": {
        "colab": {
          "base_uri": "https://localhost:8080/"
        },
        "id": "hUSefoIbrxag",
        "outputId": "2c27d161-5f43-4b9f-949b-63a891a859f9"
      },
      "execution_count": null,
      "outputs": [
        {
          "output_type": "stream",
          "name": "stdout",
          "text": [
            "0\n",
            "1\n",
            "1\n",
            "2\n",
            "3\n",
            "5\n",
            "8\n",
            "13\n",
            "21\n",
            "34\n",
            "55\n",
            "89\n",
            "144\n",
            "233\n",
            "377\n",
            "610\n",
            "987\n",
            "1597\n",
            "2584\n",
            "4181\n",
            "6765\n"
          ]
        }
      ]
    },
    {
      "cell_type": "code",
      "source": [
        "def main():\n",
        "    # This for-loop start at 0 and counts up to 19 (for a total of 20 numbers)\n",
        "    for i in range(20):\n",
        "        print(i * 2)  # Use the 'i' value inside the for-loop\n",
        "\n",
        "# Call the main function when \"run\", no need to edit anything below!\n",
        "if __name__ == \"__main__\":\n",
        "    main()"
      ],
      "metadata": {
        "colab": {
          "base_uri": "https://localhost:8080/"
        },
        "id": "ezVga5MEsFK2",
        "outputId": "dd390458-4723-4415-dc35-f74ab94088ad"
      },
      "execution_count": null,
      "outputs": [
        {
          "output_type": "stream",
          "name": "stdout",
          "text": [
            "0\n",
            "2\n",
            "4\n",
            "6\n",
            "8\n",
            "10\n",
            "12\n",
            "14\n",
            "16\n",
            "18\n",
            "20\n",
            "22\n",
            "24\n",
            "26\n",
            "28\n",
            "30\n",
            "32\n",
            "34\n",
            "36\n",
            "38\n"
          ]
        }
      ]
    },
    {
      "cell_type": "code",
      "source": [
        "def main():\n",
        "    for i in range(10,0, -1):\n",
        "      print(i,end=\" \")\n",
        "    print(\"Liftoff\")\n",
        "\n",
        "# This provided line is required at the end of\n",
        "# Python file to call the main() function.\n",
        "if __name__ == '__main__':\n",
        "    main()"
      ],
      "metadata": {
        "colab": {
          "base_uri": "https://localhost:8080/"
        },
        "id": "Yy-cImRQsmv_",
        "outputId": "9efea7f6-4c90-4cff-adf4-8a97e44365ab"
      },
      "execution_count": null,
      "outputs": [
        {
          "output_type": "stream",
          "name": "stdout",
          "text": [
            "10 9 8 7 6 5 4 3 2 1 Liftoff\n"
          ]
        }
      ]
    },
    {
      "cell_type": "code",
      "source": [
        "def main():\n",
        "  curr_value = int(input(\"Enter a number\"))\n",
        "  while curr_value <  100:\n",
        "    curr_value *= 2\n",
        "    print(curr_value,end = \" \")\n",
        "\n",
        "if __name__ == '__main__':\n",
        "    main()"
      ],
      "metadata": {
        "colab": {
          "base_uri": "https://localhost:8080/"
        },
        "id": "civovqTCvlbK",
        "outputId": "9f24ebb8-0b82-49b8-96ba-b870cbeec971"
      },
      "execution_count": null,
      "outputs": [
        {
          "output_type": "stream",
          "name": "stdout",
          "text": [
            "Enter a number1\n",
            "2 4 8 16 32 64 128 "
          ]
        }
      ]
    }
  ]
}