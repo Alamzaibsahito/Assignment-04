{
  "cells": [
    {
      "cell_type": "markdown",
      "metadata": {
        "id": "view-in-github",
        "colab_type": "text"
      },
      "source": [
        "<a href=\"https://colab.research.google.com/github/Alamzaibsahito/Assignment-04/blob/main/oop.ipynb\" target=\"_parent\"><img src=\"https://colab.research.google.com/assets/colab-badge.svg\" alt=\"Open In Colab\"/></a>"
      ]
    },
    {
      "cell_type": "code",
      "execution_count": null,
      "metadata": {
        "colab": {
          "base_uri": "https://localhost:8080/"
        },
        "id": "FGWUPmWi5x1C",
        "outputId": "141923e1-2ddc-4753-fd89-76d366f5cdf4"
      },
      "outputs": [
        {
          "name": "stdout",
          "output_type": "stream",
          "text": [
            "Student Name: Alam Zaib\n",
            "Student Marks: 88\n"
          ]
        }
      ],
      "source": [
        "class Student:\n",
        "  def __init__(self,name,marks):\n",
        "    self.name = name\n",
        "    self.marks = marks\n",
        "  def display(self):\n",
        "    print(\"Student Name:\",self.name)\n",
        "    print(\"Student Marks:\",self.marks)\n",
        "\n",
        "student = Student(\"Alam Zaib\",88)\n",
        "student.display()"
      ]
    },
    {
      "cell_type": "code",
      "execution_count": null,
      "metadata": {
        "colab": {
          "base_uri": "https://localhost:8080/"
        },
        "id": "TQCqUmQD1lBn",
        "outputId": "d6a25914-4004-4671-8c86-552ffb5123f1"
      },
      "outputs": [
        {
          "name": "stdout",
          "output_type": "stream",
          "text": [
            "Total object created 4\n"
          ]
        }
      ],
      "source": [
        "class Counter:\n",
        "  object_count = 0\n",
        "  def __init__(self):\n",
        "    Counter.object_count +=1\n",
        "  @classmethod\n",
        "  def display_count(cls):\n",
        "    print(\"Total object created\",cls.object_count)\n",
        "\n",
        "obj1 = Counter()\n",
        "obj2 = Counter()\n",
        "obj3 = Counter()\n",
        "obj4 = Counter()\n",
        "Counter.display_count()"
      ]
    },
    {
      "cell_type": "code",
      "execution_count": null,
      "metadata": {
        "colab": {
          "base_uri": "https://localhost:8080/"
        },
        "id": "TQbx0Nhc4OJS",
        "outputId": "1c1c9b58-10f9-4005-802f-4411a71f1158"
      },
      "outputs": [
        {
          "name": "stdout",
          "output_type": "stream",
          "text": [
            "Car brand: Toyota:\n",
            "Toyota: car is started...\n"
          ]
        }
      ],
      "source": [
        "class Car:\n",
        "  def __init__(self,brand):\n",
        "    self.brand = brand\n",
        "  def start(self):\n",
        "    print(f\"{self.brand} car is started...\")\n",
        "\n",
        "my_car = Car(\"Toyota:\")\n",
        "print(\"Car brand:\",my_car.brand)\n",
        "my_car.start()"
      ]
    },
    {
      "cell_type": "code",
      "execution_count": null,
      "metadata": {
        "colab": {
          "base_uri": "https://localhost:8080/"
        },
        "id": "obUduQeJ6Q6u",
        "outputId": "a7a3fed5-37d0-4825-c662-b6abf5a03753"
      },
      "outputs": [
        {
          "name": "stdout",
          "output_type": "stream",
          "text": [
            "Account holder: Alam, Bank: Default Bank\n",
            "Account holder: Khan, Bank: Default Bank\n",
            "Account holder: Alam, Bank: Pakistan National Bank\n",
            "Account holder: Khan, Bank: Pakistan National Bank\n"
          ]
        }
      ],
      "source": [
        "class Bank:\n",
        "    bank_name = \"Default Bank\"\n",
        "\n",
        "    def __init__(self, account_holder):\n",
        "        self.account_holder = account_holder\n",
        "\n",
        "    @classmethod\n",
        "    def change_bank_name(cls, name):\n",
        "        cls.bank_name = name\n",
        "\n",
        "    def display(self):\n",
        "        print(f\"Account holder: {self.account_holder}, Bank: {Bank.bank_name}\")\n",
        "\n",
        "# Create objects\n",
        "user1 = Bank(\"Alam\")\n",
        "user2 = Bank(\"Khan\")\n",
        "\n",
        "user1.display()\n",
        "user2.display()\n",
        "\n",
        "# Change bank name\n",
        "Bank.change_bank_name(\"Pakistan National Bank\")\n",
        "\n",
        "user1.display()\n",
        "user2.display()\n"
      ]
    },
    {
      "cell_type": "code",
      "execution_count": null,
      "metadata": {
        "colab": {
          "base_uri": "https://localhost:8080/"
        },
        "id": "pOQBLpAT9nTF",
        "outputId": "4cda57ad-9647-4759-e907-405df252f518"
      },
      "outputs": [
        {
          "name": "stdout",
          "output_type": "stream",
          "text": [
            "The sum: 15\n"
          ]
        }
      ],
      "source": [
        "class MathUtils:\n",
        "  @staticmethod\n",
        "  def add(a,b):\n",
        "    return a + b\n",
        "result = MathUtils.add(5,10)\n",
        "print(\"The sum:\",result)"
      ]
    },
    {
      "cell_type": "code",
      "execution_count": null,
      "metadata": {
        "colab": {
          "base_uri": "https://localhost:8080/"
        },
        "id": "YW7mcOq8_mUF",
        "outputId": "bdd66510-fb5b-43ea-c062-81e59cb3fb3f"
      },
      "outputs": [
        {
          "name": "stdout",
          "output_type": "stream",
          "text": [
            "Logger object has been created!\n",
            "Logger object has been destroyed!\n"
          ]
        }
      ],
      "source": [
        "class Logger:\n",
        "  # Constructor\n",
        "  def __init__(self):\n",
        "    print(\"Logger object has been created!\")\n",
        "  # Destructor\n",
        "  def __del__(self):\n",
        "    print(\"Logger object has been destroyed!\")\n",
        "\n",
        "# Create an object of Logger class\n",
        "logger1 = Logger()\n",
        "\n",
        "# Delete the object explicityly to invoke the destructor\n",
        "del logger1\n"
      ]
    },
    {
      "cell_type": "code",
      "execution_count": null,
      "metadata": {
        "colab": {
          "base_uri": "https://localhost:8080/"
        },
        "id": "JQTQMiNFI6bA",
        "outputId": "5782dbc8-4e80-4f5a-df43-11f5443349d9"
      },
      "outputs": [
        {
          "name": "stdout",
          "output_type": "stream",
          "text": [
            "Name: Ali\n",
            "Salary: 30000\n",
            "Error: 'Employee' object has no attribute '__ssn'\n",
            "SSN (via name mangling): 123-345-678\n"
          ]
        }
      ],
      "source": [
        "class Employee:\n",
        "    # Public variable\n",
        "    name = \"Ali\"\n",
        "\n",
        "    # Protected variable\n",
        "    _salary = 30000\n",
        "\n",
        "    # Private variable\n",
        "    __ssn = \"123-345-678\"\n",
        "\n",
        "# 👇 Yeh sab class ke bahar likhna zaroori hai!\n",
        "emp = Employee()\n",
        "\n",
        "print(\"Name:\", emp.name)\n",
        "print(\"Salary:\", emp._salary)\n",
        "\n",
        "try:\n",
        "    print(\"SSN:\", emp.__ssn)\n",
        "except AttributeError as e:\n",
        "    print(\"Error:\", e)\n",
        "\n",
        "print(\"SSN (via name mangling):\", emp._Employee__ssn)\n"
      ]
    },
    {
      "cell_type": "code",
      "execution_count": null,
      "metadata": {
        "colab": {
          "base_uri": "https://localhost:8080/"
        },
        "id": "zr6YCX1UJdbY",
        "outputId": "2f567ca2-dfc8-4666-8ebc-f276a22b4800"
      },
      "outputs": [
        {
          "name": "stdout",
          "output_type": "stream",
          "text": [
            "Name:Mr. Hamza Alvi\n",
            "Subject:Computer Science\n"
          ]
        }
      ],
      "source": [
        "class Person:\n",
        "  def __init__(self,name):\n",
        "    self.name = name\n",
        "\n",
        "    # Derived class Teacher\n",
        "class Teacher(Person):\n",
        "      def __init__(self, name,subject):\n",
        "         super().__init__(name)\n",
        "         self.subject = subject\n",
        "      def display(self):\n",
        "          print(f\"Name:{self.name}\")\n",
        "          print(f\"Subject:{self.subject}\")\n",
        "teacher = Teacher(\"Mr. Hamza Alvi\", \"Computer Science\")\n",
        "teacher.display()"
      ]
    },
    {
      "cell_type": "code",
      "execution_count": null,
      "metadata": {
        "colab": {
          "base_uri": "https://localhost:8080/"
        },
        "id": "p8lrYl3YHGWJ",
        "outputId": "f70a7ef7-82b0-4623-d908-b7a65a1ba2e4"
      },
      "outputs": [
        {
          "name": "stdout",
          "output_type": "stream",
          "text": [
            "Area of Reactangle: 50\n"
          ]
        }
      ],
      "source": [
        "from abc import ABC, abstractmethod\n",
        "\n",
        "# Abstract class Shape\n",
        "class Shape(ABC):\n",
        "  @abstractmethod\n",
        "  def area(self):\n",
        "    pass\n",
        "# Class Rectangle\n",
        "class Rectangle(Shape):\n",
        "  def __init__(self,width,height):\n",
        "     self.width = width\n",
        "     self.height = height\n",
        "  def area(self):\n",
        "    return self.width * self.height\n",
        "# Creating an object\n",
        "rect = Rectangle(5,10)\n",
        "print(f\"Area of Reactangle: {rect.area()}\")"
      ]
    },
    {
      "cell_type": "code",
      "execution_count": null,
      "metadata": {
        "colab": {
          "base_uri": "https://localhost:8080/"
        },
        "id": "_1I40J2xKWDJ",
        "outputId": "f4ab8de4-2749-462e-a60f-2f62e32628ab"
      },
      "outputs": [
        {
          "name": "stdout",
          "output_type": "stream",
          "text": [
            "Buddy is barking! woof woof!\n"
          ]
        }
      ],
      "source": [
        "class Dog:\n",
        "  def __init__(self, name,breed):\n",
        "    self.name = name\n",
        "    self.breed = breed\n",
        "\n",
        "  def bark(self):\n",
        "    print(f\"{self.name} is barking! woof woof!\")\n",
        "# Object Creation\n",
        "dog1 = Dog(\"Buddy\",\"Labrador\")\n",
        "dog1.bark()"
      ]
    },
    {
      "cell_type": "code",
      "execution_count": null,
      "metadata": {
        "colab": {
          "base_uri": "https://localhost:8080/"
        },
        "id": "BDlZqMSFNXZK",
        "outputId": "a48c3b26-f32f-4f8c-88cf-68455cd73d42"
      },
      "outputs": [
        {
          "name": "stdout",
          "output_type": "stream",
          "text": [
            "Total Books: 3\n"
          ]
        }
      ],
      "source": [
        "class Book:\n",
        "  total_books = 0\n",
        "\n",
        "  def __init__(self,title):\n",
        "    self.title = title\n",
        "    Book.increment_book_count()\n",
        "  @classmethod\n",
        "  def increment_book_count(cls):\n",
        "    cls.total_books +=1\n",
        "\n",
        "  def display(self):\n",
        "    print(f\"Title:{self.title}\")\n",
        "# Creating book objects\n",
        "book1 = Book(\"Python\")\n",
        "book2 = Book(\"Learn OOP\")\n",
        "book3 = Book(\"AI for Beginners\")\n",
        "\n",
        "print(\"Total Books:\",Book.total_books)"
      ]
    },
    {
      "cell_type": "code",
      "execution_count": null,
      "metadata": {
        "colab": {
          "base_uri": "https://localhost:8080/"
        },
        "id": "lfLiGIG6Lcst",
        "outputId": "f8abcc11-c591-472b-bbbd-4266d0b98099"
      },
      "outputs": [
        {
          "name": "stdout",
          "output_type": "stream",
          "text": [
            "45°C = 113.0°F\n"
          ]
        }
      ],
      "source": [
        "class TempeartureConverter:\n",
        "  @staticmethod\n",
        "  def celsius_to_fahrenheit(c):\n",
        "    return (c * 9/5) + 32\n",
        "# Using the static method without creating an object\n",
        "temp_celsius =45\n",
        "temp_fahrenheit = TempeartureConverter.celsius_to_fahrenheit(temp_celsius)\n",
        "print(f\"{temp_celsius}°C = {temp_fahrenheit}°F\")"
      ]
    },
    {
      "cell_type": "code",
      "execution_count": null,
      "metadata": {
        "colab": {
          "base_uri": "https://localhost:8080/"
        },
        "id": "i3hv3D7xNbBx",
        "outputId": "1b823887-995f-4ca5-8a0a-da75cce76a83"
      },
      "outputs": [
        {
          "name": "stdout",
          "output_type": "stream",
          "text": [
            "Start the car ....\n",
            "Engine  Started\n"
          ]
        }
      ],
      "source": [
        "class Engine:\n",
        "  def start(self):\n",
        "    print(\"Engine  Started\")\n",
        "class Car:\n",
        "  def __init__(self, engine):\n",
        "    self.engine = engine\n",
        "  def start_car(self):\n",
        "    print(\"Start the car ....\")\n",
        "    self.engine.start()     # Calling  Engine method via car\n",
        "\n",
        "# Creating an Engine object\n",
        "my_engine = Engine()\n",
        "\n",
        "# Passing engine to car\n",
        "my_car = Car(my_engine)\n",
        "\n",
        "# Using the car mehtod thar uses Engine\n",
        "my_car.start_car()"
      ]
    },
    {
      "cell_type": "code",
      "execution_count": null,
      "metadata": {
        "colab": {
          "base_uri": "https://localhost:8080/"
        },
        "id": "UFxGTw0tPS50",
        "outputId": "36a7353d-c12f-46db-e57e-6ece51940a8d"
      },
      "outputs": [
        {
          "name": "stdout",
          "output_type": "stream",
          "text": [
            "Department: IT\n",
            "Employee Name: Alam Zaib\n"
          ]
        }
      ],
      "source": [
        "class Employee:\n",
        "    def __init__(self, name):\n",
        "        self.name = name\n",
        "\n",
        "    def get_details(self):\n",
        "        return f\"Employee Name: {self.name}\"\n",
        "\n",
        "class Department:\n",
        "    def __init__(self, dept_name, employee):\n",
        "        self.dept_name = dept_name\n",
        "        self.employee = employee\n",
        "\n",
        "    def show_info(self):\n",
        "        print(f\"Department: {self.dept_name}\")\n",
        "        print(self.employee.get_details())  # add () to call the method\n",
        "\n",
        "# Creating an Employee object\n",
        "emp = Employee(\"Alam Zaib\")\n",
        "\n",
        "# Passing Employee to Department\n",
        "dept = Department(\"IT\", emp)\n",
        "\n",
        "# Show Information\n",
        "dept.show_info()\n"
      ]
    },
    {
      "cell_type": "code",
      "execution_count": null,
      "metadata": {
        "colab": {
          "base_uri": "https://localhost:8080/"
        },
        "id": "8OoLULu4R9ar",
        "outputId": "65b62ed4-1f09-4dc4-bf09-1927f39dfb23"
      },
      "outputs": [
        {
          "name": "stdout",
          "output_type": "stream",
          "text": [
            "B class show method\n",
            "(<class '__main__.D'>, <class '__main__.B'>, <class '__main__.C'>, <class '__main__.A'>, <class 'object'>)\n"
          ]
        }
      ],
      "source": [
        "class A:\n",
        "  def show(self):\n",
        "    print(\"A class show method\")\n",
        "class B(A):\n",
        "  def show(self):\n",
        "    print(\"B class show method\")\n",
        "class C(A):\n",
        "  def show(self):\n",
        "    print(\"C class show() method\")\n",
        "class D(B,C):\n",
        "  pass\n",
        "\n",
        "# creating object of class D\n",
        "d = D ()\n",
        "d.show()\n",
        "\n",
        "print(D.__mro__)"
      ]
    },
    {
      "cell_type": "code",
      "execution_count": null,
      "metadata": {
        "colab": {
          "base_uri": "https://localhost:8080/"
        },
        "id": "Nuy89gEaULZZ",
        "outputId": "45bcba8d-0d83-4fb9-975f-c4e28fff1c25"
      },
      "outputs": [
        {
          "name": "stdout",
          "output_type": "stream",
          "text": [
            "Function is being called\n",
            "Hello!\n"
          ]
        }
      ],
      "source": [
        "# Decorator Function\n",
        "def log_function_call (func):\n",
        "  def wrapper():\n",
        "    print(\"Function is being called\")\n",
        "    func()\n",
        "  return wrapper\n",
        "# Function to the decorated\n",
        "\n",
        "@log_function_call\n",
        "def say_hello():\n",
        "  print(\"Hello!\")\n",
        "# Call the function\n",
        "say_hello()"
      ]
    },
    {
      "cell_type": "code",
      "execution_count": null,
      "metadata": {
        "colab": {
          "base_uri": "https://localhost:8080/"
        },
        "id": "3WTY-1zlU64K",
        "outputId": "f1d2e18d-37cd-46d5-9fea-667d6019b303"
      },
      "outputs": [
        {
          "name": "stdout",
          "output_type": "stream",
          "text": [
            "Hello from Decorator!\n"
          ]
        }
      ],
      "source": [
        "# Class Decorator\n",
        "def add_greeting(cls):\n",
        "  def greet(self):\n",
        "    return \"Hello from Decorator!\"\n",
        "  cls.greet = greet\n",
        "  return cls\n",
        "# Apply the decorator to the class\n",
        "@add_greeting\n",
        "class Person:\n",
        "   def __init__(self,name):\n",
        "    self.name = name\n",
        "# Create object\n",
        "p = Person('Alam Zaib')\n",
        "\n",
        "# Call greet method  added by decorated\n",
        "print(p.greet())"
      ]
    },
    {
      "cell_type": "code",
      "execution_count": 4,
      "metadata": {
        "colab": {
          "base_uri": "https://localhost:8080/"
        },
        "id": "Y65fVyfmAM9U",
        "outputId": "f3e1c01d-7dba-40c5-d53f-b3e0842b26bc"
      },
      "outputs": [
        {
          "output_type": "stream",
          "name": "stdout",
          "text": [
            "Initial Price: 100\n",
            "Updated Price: 150\n",
            "Price cannot be negative!\n",
            "Deleting price....\n"
          ]
        }
      ],
      "source": [
        "class Product:\n",
        "  def __init__(self,price):\n",
        "    self.price = price\n",
        "  @property\n",
        "  def price(self):\n",
        "    return self._price\n",
        "\n",
        "  @price.setter\n",
        "  def price(self,value):\n",
        "    # Setter method\n",
        "    if value < 0 :\n",
        "      print(\"Price cannot be negative!\")\n",
        "    else:\n",
        "      self._price = value\n",
        "  @price.deleter\n",
        "  def price(self):\n",
        "    print(\"Deleting price....\")\n",
        "    del self._price\n",
        "# Create object\n",
        "item =  Product(100)\n",
        "\n",
        "# Get Price\n",
        "print(\"Initial Price:\",item.price)\n",
        "#set new price\n",
        "item.price = 150\n",
        "print(\"Updated Price:\",item.price)\n",
        "\n",
        "# Try to set negative  price\n",
        "item.price = -50        # Will show warning\n",
        "\n",
        "# Delelte price\n",
        "del item.price"
      ]
    },
    {
      "cell_type": "code",
      "execution_count": null,
      "metadata": {
        "colab": {
          "background_save": true
        },
        "id": "RSa3D72nEEdM",
        "outputId": "eb467421-568d-425d-c175-f63e5ff0c656"
      },
      "outputs": [
        {
          "name": "stdout",
          "output_type": "stream",
          "text": [
            "Is times3 callable? True\n",
            "3 times 10 = 30\n"
          ]
        }
      ],
      "source": [
        "class Multiplier:\n",
        "    def __init__(self, factor):\n",
        "        self.factor = factor\n",
        "\n",
        "    def __call__(self, value):\n",
        "        return self.factor * value\n",
        "times3 = Multiplier(3)\n",
        "\n",
        "print(\"Is times3 callable?\", callable(times3))\n",
        "result = times3(10)\n",
        "print(\"3 times 10 =\", result)\n"
      ]
    },
    {
      "cell_type": "code",
      "source": [
        "class InvalidAgeError(Exception):\n",
        "    def __init__(self, message=\"Age must be at least 18.\"):\n",
        "        self.message = message\n",
        "        super().__init__(self.message)\n",
        "\n",
        "def check_age(age):\n",
        "    if age < 18:\n",
        "        raise InvalidAgeError(f\"Invalid age: {age}. You must be 18 or older.\")\n",
        "    else:\n",
        "        print(\"Access granted!\")\n",
        "try:\n",
        "    user_age = int(input(\"Enter your age: \"))\n",
        "    check_age(user_age)\n",
        "except InvalidAgeError as e:\n",
        "    print(\"Error:\", e)"
      ],
      "metadata": {
        "id": "a4YIlyVZFelH"
      },
      "execution_count": null,
      "outputs": []
    },
    {
      "cell_type": "code",
      "source": [
        "class Countdown:\n",
        "    def __init__(self, start):\n",
        "        self.current = start\n",
        "\n",
        "    def __iter__(self):\n",
        "        return self\n",
        "    def __next__(self):\n",
        "        if self.current < 0:\n",
        "            raise StopIteration\n",
        "        else:\n",
        "            value = self.current\n",
        "            self.current -= 1\n",
        "            return value\n",
        "cd = Countdown(5)\n",
        "for number in cd:\n",
        "    print(number)\n"
      ],
      "metadata": {
        "id": "zWu6qe1mFyh-",
        "colab": {
          "base_uri": "https://localhost:8080/"
        },
        "outputId": "7dc176bd-4614-436b-d339-528e07721771"
      },
      "execution_count": 3,
      "outputs": [
        {
          "output_type": "stream",
          "name": "stdout",
          "text": [
            "5\n",
            "4\n",
            "3\n",
            "2\n",
            "1\n",
            "0\n"
          ]
        }
      ]
    }
  ],
  "metadata": {
    "colab": {
      "provenance": [],
      "authorship_tag": "ABX9TyMgTMGRlU2up4Jujy7ig/wD",
      "include_colab_link": true
    },
    "kernelspec": {
      "display_name": "Python 3",
      "name": "python3"
    },
    "language_info": {
      "name": "python"
    }
  },
  "nbformat": 4,
  "nbformat_minor": 0
}