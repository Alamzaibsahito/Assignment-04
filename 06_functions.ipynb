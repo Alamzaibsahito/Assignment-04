{
  "nbformat": 4,
  "nbformat_minor": 0,
  "metadata": {
    "colab": {
      "provenance": [],
      "authorship_tag": "ABX9TyP5qFLTLIRSeZ0JFxn7ELlI",
      "include_colab_link": true
    },
    "kernelspec": {
      "name": "python3",
      "display_name": "Python 3"
    },
    "language_info": {
      "name": "python"
    }
  },
  "cells": [
    {
      "cell_type": "markdown",
      "metadata": {
        "id": "view-in-github",
        "colab_type": "text"
      },
      "source": [
        "<a href=\"https://colab.research.google.com/github/Alamzaibsahito/Assignment-04/blob/main/06_functions.ipynb\" target=\"_parent\"><img src=\"https://colab.research.google.com/assets/colab-badge.svg\" alt=\"Open In Colab\"/></a>"
      ]
    },
    {
      "cell_type": "code",
      "execution_count": null,
      "metadata": {
        "colab": {
          "base_uri": "https://localhost:8080/"
        },
        "id": "hLLfDWx8ynJj",
        "outputId": "a5bcff57-a36f-4a94-cbf3-2c7d72d29ceb"
      },
      "outputs": [
        {
          "output_type": "stream",
          "name": "stdout",
          "text": [
            "avg_1 5.0\n",
            "avg_2 9.0\n",
            "final 7.0\n"
          ]
        }
      ],
      "source": [
        "def average(a: float, b: float):\n",
        "    \"\"\"\n",
        "    Returns the number which is half way between a and b\n",
        "    \"\"\"\n",
        "    sum = a + b\n",
        "    return sum / 2\n",
        "\n",
        "def main():\n",
        "    avg_1 = average(0, 10)\n",
        "    avg_2 = average(8, 10)\n",
        "\n",
        "    final = average(avg_1, avg_2)\n",
        "    print(\"avg_1\", avg_1)\n",
        "    print(\"avg_2\", avg_2)\n",
        "    print(\"final\", final)\n",
        "\n",
        "\n",
        "# There is no need to edit code beyond this point\n",
        "\n",
        "if __name__ == '__main__':\n",
        "    main()"
      ]
    },
    {
      "cell_type": "code",
      "source": [
        "def chaotic_counting():\n",
        "    for i in range(10):\n",
        "        curr_num = i + 1\n",
        "        if done():\n",
        "            return # this ends the function execution, so we'll get back to the main() function!\n",
        "        print(curr_num)\n",
        "\n",
        "# There is no need to edit code beyond this point\n",
        "\n",
        "def done():\n",
        "    \"\"\" Returns True with a probability of DONE_LIKELIHOOD \"\"\"\n",
        "    if random.random() < DONE_LIKELIHOOD:\n",
        "        return True\n",
        "    return False\n",
        "\n",
        "def main():\n",
        "    print(\"I'm going to count until 10 or until I feel like stopping, whichever comes first.\")\n",
        "    chaotic_counting()\n",
        "    print(\"I'm done\")\n",
        "\n",
        "if __name__ == \"__main__\":\n",
        "    main()"
      ],
      "metadata": {
        "colab": {
          "base_uri": "https://localhost:8080/"
        },
        "id": "ORaOkwAEzsmS",
        "outputId": "0da191d9-5f3e-451e-be2e-5233feae32d0"
      },
      "execution_count": null,
      "outputs": [
        {
          "output_type": "stream",
          "name": "stdout",
          "text": [
            "I'm going to count until 10 or until I feel like stopping, whichever comes first.\n",
            "1\n",
            "2\n",
            "3\n",
            "4\n",
            "5\n",
            "6\n",
            "7\n",
            "8\n",
            "9\n",
            "I'm done\n"
          ]
        }
      ]
    },
    {
      "cell_type": "code",
      "source": [
        "\n",
        "def count_even(lst):\n",
        "    \"\"\"\n",
        "    Returns number of even numbers in list.\n",
        "    >>> count_even([1,2,3,4])\n",
        "    2\n",
        "    >>> count_even([1,3,5,7])\n",
        "    0\n",
        "    \"\"\"\n",
        "    count = 0  # Stores the count of even numbers in the list\n",
        "    for num in lst:  # Loop through the numbers in the list\n",
        "        if num % 2 == 0:  # If the current number in the list is even (divisible by 2)\n",
        "            count += 1  # Add one to our count!\n",
        "\n",
        "    # Here's another way to do this same thing, with a different kind of for-loop:\n",
        "    # for i in range(len(lst)):\n",
        "    #     num = lst[i]\n",
        "    #     if num % 2 == 0:\n",
        "    #         count += 1\n",
        "\n",
        "    print(count)  # Print out how many even numbers we counted above\n",
        "\n",
        "def get_list_of_ints():\n",
        "    \"\"\"\n",
        "    Reads in integers until the user presses enter and returns the resulting list.\n",
        "    \"\"\"\n",
        "    lst = []  # Make an empty list to store integers\n",
        "    user_input = input(\"Enter an integer or press enter to stop: \")  # Get user input for an integer\n",
        "    while user_input != \"\":  # While the user doesn't enter nothing...\n",
        "        lst.append(int(user_input))  # Cast the user input into an integer and add it to our list\n",
        "        user_input = input(\"Enter an integer or press enter to stop: \")  # Get the next user input\n",
        "\n",
        "    return lst\n",
        "\n",
        "def main():\n",
        "    lst = get_list_of_ints()\n",
        "    count_even(lst)\n",
        "\n",
        "\n",
        "# There is no need to edit code beyond this point\n",
        "\n",
        "if __name__ == '__main__':\n",
        "    main()"
      ],
      "metadata": {
        "colab": {
          "base_uri": "https://localhost:8080/"
        },
        "id": "7i8bWMdr0kNW",
        "outputId": "d9c2c5eb-3813-44ea-f62a-ae4de983b055"
      },
      "execution_count": null,
      "outputs": [
        {
          "output_type": "stream",
          "name": "stdout",
          "text": [
            "Enter an integer or press enter to stop: 2\n",
            "Enter an integer or press enter to stop: 3\n",
            "Enter an integer or press enter to stop: 4\n",
            "Enter an integer or press enter to stop: \n",
            "2\n"
          ]
        }
      ]
    },
    {
      "cell_type": "code",
      "source": [
        "def double(num: int):\n",
        "    return num * 2\n",
        "\n",
        "# There is no need to edit code beyond this point\n",
        "\n",
        "def main():\n",
        "    num = int(input(\"Enter a number: \"))\n",
        "    num_times_2 = double(num)\n",
        "    print(\"Double that is\", num_times_2)\n",
        "\n",
        "if __name__ == '__main__':\n",
        "    main()"
      ],
      "metadata": {
        "colab": {
          "base_uri": "https://localhost:8080/"
        },
        "id": "tuUga0xO1CBF",
        "outputId": "d00a06a4-0b07-4f06-c2aa-cec3cbf4f48f"
      },
      "execution_count": null,
      "outputs": [
        {
          "output_type": "stream",
          "name": "stdout",
          "text": [
            "Enter a number: 50\n",
            "Double that is 100\n"
          ]
        }
      ]
    },
    {
      "cell_type": "code",
      "source": [
        "def get_name():\n",
        "    return \"Sophia\"\n",
        "\n",
        "# There is no need to edit code beyond this point\n",
        "\n",
        "def main():\n",
        "    name = get_name() # get_name() will return a string which we store to the 'name' variable here\n",
        "    print(\"Howdy\", name, \"! 🤠\")\n",
        "\n",
        "if __name__ == '__main__':\n",
        "    main()"
      ],
      "metadata": {
        "colab": {
          "base_uri": "https://localhost:8080/"
        },
        "id": "YfKftkhn1Szr",
        "outputId": "4b5de1c7-d68b-47de-b3d9-28a21edb2b32"
      },
      "execution_count": null,
      "outputs": [
        {
          "output_type": "stream",
          "name": "stdout",
          "text": [
            "Howdy Sophia ! 🤠\n"
          ]
        }
      ]
    },
    {
      "cell_type": "code",
      "source": [
        "def main():\n",
        "    for i in range(10):\n",
        "        if is_odd(i):\n",
        "            print('odd')\n",
        "        else:\n",
        "            print('even')\n",
        "\n",
        "def is_odd(value: int):\n",
        "    \"\"\"\n",
        "    Checks to see if a value is odd. If it is, returns true.\n",
        "    \"\"\"\n",
        "\n",
        "    remainder = value % 2  # 0 if value is divisible by 2, 1 if it isn't\n",
        "    return remainder == 1\n",
        "\n",
        "\n",
        "# There is no need to edit code beyond this point\n",
        "\n",
        "if __name__ == '__main__':\n",
        "    main()"
      ],
      "metadata": {
        "colab": {
          "base_uri": "https://localhost:8080/"
        },
        "id": "FnAA9a6g1nFp",
        "outputId": "7ace0e40-bd0f-42e1-f059-ea8144c932d0"
      },
      "execution_count": null,
      "outputs": [
        {
          "output_type": "stream",
          "name": "stdout",
          "text": [
            "even\n",
            "odd\n",
            "even\n",
            "odd\n",
            "even\n",
            "odd\n",
            "even\n",
            "odd\n",
            "even\n",
            "odd\n"
          ]
        }
      ]
    },
    {
      "cell_type": "code",
      "source": [
        "def print_divisors(num: int):\n",
        "    print(\"Here are the divisors of\", num)\n",
        "    for i in range(num):\n",
        "        curr_divisor = i + 1\n",
        "        if num % curr_divisor == 0:\n",
        "            print(curr_divisor)\n",
        "\n",
        "def main():\n",
        "    num = int(input(\"Enter a number: \"))\n",
        "    print_divisors(num)\n",
        "\n",
        "\n",
        "# There is no need to edit code beyond this point\n",
        "\n",
        "if __name__ == '__main__':\n",
        "    main()"
      ],
      "metadata": {
        "colab": {
          "base_uri": "https://localhost:8080/"
        },
        "id": "KreOc2wi14K_",
        "outputId": "66da5d60-229e-4c0e-9025-ce1cb51c6877"
      },
      "execution_count": null,
      "outputs": [
        {
          "output_type": "stream",
          "name": "stdout",
          "text": [
            "Enter a number: 9\n",
            "Here are the divisors of 9\n",
            "1\n",
            "3\n",
            "9\n"
          ]
        }
      ]
    },
    {
      "cell_type": "code",
      "source": [
        "def print_multiple(message: str, repeats: int):\n",
        "     for i in range(repeats):    # loop repeat timesp\n",
        "        print(message)            # print the message\n",
        "# Main function to take user input\n",
        "def main():\n",
        "  message= input(\"Enter your message:\")\n",
        "  repeats= int(input(\"Enter the number of times to repeat:\"))       # taking reeats input\n",
        "  print_multiple(message, repeats)\n",
        "  print(\"Here is your reapting message\")\n",
        "# This provided line is required at the end of\n",
        "# Python file to call the main() function.\n",
        "if __name__ == '__main__':\n",
        "    main()"
      ],
      "metadata": {
        "colab": {
          "base_uri": "https://localhost:8080/"
        },
        "id": "fqHo9Yzo2i6c",
        "outputId": "c3ddb120-ee3f-47a5-81bc-99eda9434adc"
      },
      "execution_count": null,
      "outputs": [
        {
          "output_type": "stream",
          "name": "stdout",
          "text": [
            "Enter your message:Hello World\n",
            "Enter the number of times to repeat:4\n",
            "Hello World\n",
            "Hello World\n",
            "Hello World\n",
            "Hello World\n",
            "Here is your reapting message\n"
          ]
        }
      ]
    },
    {
      "cell_type": "code",
      "source": [
        "def make_sentence(word, part_of_speech):\n",
        "    if part_of_speech == 0:\n",
        "        # noun\n",
        "        print(\"I am excited to add this \" + word + \" to my vast collection of them!\")\n",
        "    elif part_of_speech == 1:\n",
        "        # verb\n",
        "        print(\"It's so nice outside today it makes me want to \" + word + \"!\")\n",
        "    elif part_of_speech == 2:\n",
        "        # adjective\n",
        "        print(\"Looking out my window, the sky is big and \" + word + \"!\")\n",
        "    else:\n",
        "        # part_of_speech is invalid (not 0, 1, or 2)\n",
        "        print(\"Part of speech must be 0, 1, or 2! Can't make a sentence.\")\n",
        "\n",
        "# There is no need to edit code beyond this point\n",
        "\n",
        "def main():\n",
        "    word :  str = input(\"Please type a noun, verb, or adjective: \")\n",
        "    print(\"Is this a noun, verb, or adjective?\")\n",
        "    part_of_speech = int(input(\"Type 0 for noun, 1 for verb, 2 for adjective: \"))\n",
        "    make_sentence(word, part_of_speech)\n",
        "\n",
        "if __name__ == '__main__':\n",
        "    main()\n"
      ],
      "metadata": {
        "colab": {
          "base_uri": "https://localhost:8080/"
        },
        "id": "o_6vlRwj64X7",
        "outputId": "37a2f88a-4748-485b-b6e5-0df4ca0c2bd4"
      },
      "execution_count": null,
      "outputs": [
        {
          "output_type": "stream",
          "name": "stdout",
          "text": [
            "Please type a noun, verb, or adjective: amazing\n",
            "Is this a noun, verb, or adjective?\n",
            "Type 0 for noun, 1 for verb, 2 for adjective: 2\n",
            "Looking out my window, the sky is big and amazing!\n"
          ]
        }
      ]
    },
    {
      "cell_type": "code",
      "source": [
        "def print_ones_digit(num):\n",
        "# % 10 gives the one digit\n",
        "  print(\"The ones digit is \", num % 10)\n",
        "\n",
        "# Mian function to take user input\n",
        "def main():\n",
        "  # Take number user from the user\n",
        "  num = int(input(\"Enter a number\"))\n",
        "  # print the ones digit\n",
        "  print_ones_digit(num)\n",
        "\n",
        "if __name__ == \"__main__\":\n",
        "  main()"
      ],
      "metadata": {
        "colab": {
          "base_uri": "https://localhost:8080/"
        },
        "id": "NAXnqSOR7cNm",
        "outputId": "24285209-a253-48eb-bbec-a98b51a7faa0"
      },
      "execution_count": null,
      "outputs": [
        {
          "output_type": "stream",
          "name": "stdout",
          "text": [
            "Enter a number123456\n",
            "The ones digit is  6\n"
          ]
        }
      ]
    }
  ]
}