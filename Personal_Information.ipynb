{
  "nbformat": 4,
  "nbformat_minor": 0,
  "metadata": {
    "colab": {
      "provenance": [],
      "authorship_tag": "ABX9TyNUushkvHFlTXqsyRxgY7k6",
      "include_colab_link": true
    },
    "kernelspec": {
      "name": "python3",
      "display_name": "Python 3"
    },
    "language_info": {
      "name": "python"
    }
  },
  "cells": [
    {
      "cell_type": "markdown",
      "metadata": {
        "id": "view-in-github",
        "colab_type": "text"
      },
      "source": [
        "<a href=\"https://colab.research.google.com/github/Alamzaibsahito/Assignment-04/blob/main/Personal_Information.ipynb\" target=\"_parent\"><img src=\"https://colab.research.google.com/assets/colab-badge.svg\" alt=\"Open In Colab\"/></a>"
      ]
    },
    {
      "cell_type": "code",
      "execution_count": 10,
      "metadata": {
        "colab": {
          "base_uri": "https://localhost:8080/"
        },
        "id": "4hMftugTEbY2",
        "outputId": "b082154a-624a-4b33-d7f9-5e0afd5174d5"
      },
      "outputs": [
        {
          "output_type": "stream",
          "name": "stdout",
          "text": [
            "Enter your first name :Alam \n",
            "Enter your last name :Zaib\n",
            "Enter your email :aaa333ddd\n",
            "Enter your Phone Number03333\n",
            "Enter your age :22\n",
            "Enter your city :new\n",
            "\n",
            "🥰🥰--Personal Information -🥰🥰-\n",
            "Full Name : Alam  Zaib\n",
            "Email : aaa333ddd\n",
            "Contact : 03333\n",
            "Age : 22\n",
            "City : new\n",
            "\n",
            "Hello Alam  Zaib, you are 22 years old and live in new.\n"
          ]
        }
      ],
      "source": [
        "# personal information\n",
        "first_name = input(\"Enter your first name :\")\n",
        "last_name = input(\"Enter your last name :\")\n",
        "email = input(\"Enter your email :\")\n",
        "contact = input(\"Enter your Phone Number\")\n",
        "age =input(\"Enter your age :\")\n",
        "city = input(\"Enter your city :\")\n",
        "\n",
        "full_name = first_name + \" \" + last_name\n",
        "\n",
        "print(\"\\n🥰🥰--Personal Information -🥰🥰-\")\n",
        "print(f\"Full Name : {full_name}\")\n",
        "print(f\"Email : {email}\")\n",
        "print(f\"Contact : {contact}\")\n",
        "print(f\"Age : {age}\")\n",
        "print(f\"City : {city}\")\n",
        "\n",
        "print(f\"\\nHello {full_name}, you are {age} years old and live in {city}.\")"
      ]
    }
  ]
}