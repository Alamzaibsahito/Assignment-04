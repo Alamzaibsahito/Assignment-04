{
  "nbformat": 4,
  "nbformat_minor": 0,
  "metadata": {
    "colab": {
      "provenance": [],
      "authorship_tag": "ABX9TyNPSInPF4e6yzuZKD+M6waB",
      "include_colab_link": true
    },
    "kernelspec": {
      "name": "python3",
      "display_name": "Python 3"
    },
    "language_info": {
      "name": "python"
    }
  },
  "cells": [
    {
      "cell_type": "markdown",
      "metadata": {
        "id": "view-in-github",
        "colab_type": "text"
      },
      "source": [
        "<a href=\"https://colab.research.google.com/github/Alamzaibsahito/Assignment-04/blob/main/Number_guessing(user).ipynb\" target=\"_parent\"><img src=\"https://colab.research.google.com/assets/colab-badge.svg\" alt=\"Open In Colab\"/></a>"
      ]
    },
    {
      "cell_type": "code",
      "source": [
        "import random\n",
        "\n",
        "print(\"\\n Welcome to the Number Guessing Game \\n\")\n",
        "print(\"User Guess the Number \\n\")\n",
        "\n",
        "# Generate a secret number\n",
        "Secret_Number = random.randint(1, 10)\n",
        "attempts = 0  # Store the Guess Count\n",
        "\n",
        "print(\"I have chosen a number between 1 to 10. Can you guess it?\")\n",
        "print(\"Type 'exit' to quit the game anytime.\")\n",
        "\n",
        "while True:\n",
        "    try:\n",
        "        user_input = input(\"Guess the Number: \")\n",
        "\n",
        "        # If the user types \"exit\", end the game\n",
        "        if user_input.lower() == \"exit\":\n",
        "            print(\"Exiting the game. Thanks for playing!\")\n",
        "            break\n",
        "\n",
        "        guess = int(user_input)  # Convert user input to an integer\n",
        "        attempts += 1  # Increase guess count\n",
        "\n",
        "        if guess < Secret_Number:\n",
        "            print(\"Too Low! Try again\")\n",
        "        elif guess > Secret_Number:  # Fixed logical error\n",
        "            print(\"Too High! Try again\")\n",
        "        else:\n",
        "            print(f\"Congratulations! You guessed the right number in {attempts} attempts.\")\n",
        "            break\n",
        "    except ValueError:\n",
        "        print(\"Please enter a valid number!\")\n"
      ],
      "metadata": {
        "id": "FrUxowpT5hVS",
        "colab": {
          "base_uri": "https://localhost:8080/"
        },
        "outputId": "a93aa0f8-c632-42a2-b2af-aa0a628d6723"
      },
      "execution_count": 21,
      "outputs": [
        {
          "output_type": "stream",
          "name": "stdout",
          "text": [
            "\n",
            " Welcome to the Number Guessing Game \n",
            "\n",
            "User Guess the Number \n",
            "\n",
            "I have chosen a number between 1 to 10. Can you guess it?\n",
            "Type 'exit' to quit the game anytime.\n",
            "Guess the Number: 2\n",
            "Too Low! Try again\n",
            "Guess the Number: 3\n",
            "Too Low! Try again\n",
            "Guess the Number: 4\n",
            "Congratulations! You guessed the right number in 3 attempts.\n"
          ]
        }
      ]
    }
  ]
}